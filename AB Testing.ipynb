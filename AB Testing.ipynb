{
 "cells": [
  {
   "cell_type": "markdown",
   "id": "74ac7512",
   "metadata": {},
   "source": [
    "# A/B Testing Simulation"
   ]
  },
  {
   "cell_type": "markdown",
   "id": "a38272f0",
   "metadata": {},
   "source": [
    "## Introduction"
   ]
  },
  {
   "cell_type": "markdown",
   "id": "3b164c2b",
   "metadata": {},
   "source": [
    "A/B testing is a common technique used to test whether a new design or feature improves the performance of a website compared to the previous one. Here, we will be performing A/B testing to determine whether a new website design increases the conversion rate compared to the old design. "
   ]
  },
  {
   "cell_type": "markdown",
   "id": "263fbdd7",
   "metadata": {},
   "source": [
    "We randomly divide 2000 website visitors into two groups: 1000 visitors see the old design (group A) and 1000 visitors see the new design (group B). We assume that the true conversion rates are 10% for group A and 12% for group B."
   ]
  },
  {
   "cell_type": "markdown",
   "id": "0d32b6ef",
   "metadata": {},
   "source": [
    "In the context of A/B testing, a [conversion rate](https://mailchimp.com/marketing-glossary/conversion-rates/) typically measures the percentage of users who completed a desired action, such as making a purchase or signing up for a service, out of the total number of users who were presented with the opportunity to take that action.\n",
    "\n",
    "For example, if 1,000 people visited a website and 50 of them made a purchase, the conversion rate would be 5% (50/1000). Similarly, if 500 people were shown an advertisement and 20 of them clicked on the ad, the conversion rate would be 4% (20/500)."
   ]
  },
  {
   "cell_type": "markdown",
   "id": "8dac3a50",
   "metadata": {},
   "source": [
    "***\n",
    "## Designing the experiment"
   ]
  },
  {
   "cell_type": "markdown",
   "id": "cc4a7d80",
   "metadata": {},
   "source": [
    "### Formulating a hypothesis\n",
    "We'll choose a <a href=\"https://www.ncl.ac.uk/webtemplate/ask-assets/external/maths-resources/statistics/hypothesis-testing/one-tailed-and-two-tailed-tests.html#:~:text=The%20main%20difference%20between%20one,using%20a%20two%2Dtailed%20test.\">**one-tailed test**</a>:\n",
    "\n",
    "$$H_0: p = p_0$$\n",
    "$$H_a: p > p_0$$\n",
    "\n",
    "In words; <br>\n",
    "\n",
    "Null Hypothesis: There is no significant difference in the conversion rates between group A and group B.\n",
    "\n",
    "Alternative Hypothesis: The conversion rate of group B is significantly higher than the conversion rate of group A.\n",
    "\n",
    "where $p$ and $p_0$ stand for the conversion rate of the new and old design, respectively. \n",
    "We'll set a **confidence level of 95%**:\n",
    "\n",
    "$$\\alpha = 0.05$$\n",
    "\n",
    "The $\\alpha$ value is the probability of rejecting the null hypothesis when it is actually true. A common significance level is 0.05, which means that there is a 5% chance of incorrectly rejecting the null hypothesis. Since our $\\alpha=0.05$ (indicating 5% probability), our confidence (1 - $\\alpha$) is 95%."
   ]
  },
  {
   "cell_type": "markdown",
   "id": "8df3016c",
   "metadata": {},
   "source": [
    "### The variables\n",
    "\n",
    "For our test, we need two groups: Group A and Group B. Group A is the control group, and they will be shown the old design. Group B is the treatment group, and they will be shown the new design. We are interested in capturing the conversion rate, which we will use as our dependent variable. We can measure the conversion rate by assigning a binary variable to each user session. The binary variable will be 1 if the user bought the product during that user session and 0 if they did not buy the product.\n",
    "* `0` - The user did not buy the product during this user session\n",
    "* `1` - The user bought the product during this user session"
   ]
  },
  {
   "cell_type": "code",
   "execution_count": 1,
   "id": "8990dd2e",
   "metadata": {},
   "outputs": [],
   "source": [
    "# Import required libraries\n",
    "import numpy as np\n",
    "from scipy.stats import ttest_ind"
   ]
  },
  {
   "cell_type": "code",
   "execution_count": 2,
   "id": "8aa90e12",
   "metadata": {},
   "outputs": [],
   "source": [
    "# Set random seed for reproducibility\n",
    "np.random.seed(40)"
   ]
  },
  {
   "cell_type": "code",
   "execution_count": 3,
   "id": "d203cdb5",
   "metadata": {},
   "outputs": [],
   "source": [
    "# Define sample size and true conversion rates\n",
    "n = 1000\n",
    "rate_A = 0.10\n",
    "rate_B = 0.12"
   ]
  },
  {
   "cell_type": "markdown",
   "id": "f0d1e175",
   "metadata": {},
   "source": [
    "We can simulate the results of the A/B test by randomly generating binary outcomes for each visitor: 0 for no conversion and 1 for conversion. If the conversion rate is 10%, we can use 0.1 to generate a random binary outcome.We repeat this process for each visitor in both groups to obtain two arrays of binary outcomes, representing the conversion results for group A and group B."
   ]
  },
  {
   "cell_type": "code",
   "execution_count": 4,
   "id": "15ee858b",
   "metadata": {},
   "outputs": [],
   "source": [
    "# Generate binary outcomes for group A\n",
    "outcomes_A = np.random.binomial(n=1, p=rate_A, size=n)\n",
    "\n",
    "# Generate binary outcomes for group B\n",
    "outcomes_B = np.random.binomial(n=1, p=rate_B, size=n)"
   ]
  },
  {
   "cell_type": "markdown",
   "id": "311c52c3",
   "metadata": {},
   "source": [
    "Next, we can calculate the conversion rates and perform hypothesis testing to determine whether the difference between the two rates is statistically significant."
   ]
  },
  {
   "cell_type": "code",
   "execution_count": 5,
   "id": "06e9ce9c",
   "metadata": {},
   "outputs": [
    {
     "name": "stdout",
     "output_type": "stream",
     "text": [
      "Conversion rate for group A: 10.00%\n",
      "Conversion rate for group B: 13.20%\n"
     ]
    }
   ],
   "source": [
    "conv_rate_A = outcomes_A.mean()\n",
    "conv_rate_B = outcomes_B.mean()\n",
    "\n",
    "print(f\"Conversion rate for group A: {conv_rate_A:.2%}\")\n",
    "print(f\"Conversion rate for group B: {conv_rate_B:.2%}\")"
   ]
  },
  {
   "cell_type": "code",
   "execution_count": 6,
   "id": "a3739760",
   "metadata": {},
   "outputs": [
    {
     "name": "stdout",
     "output_type": "stream",
     "text": [
      "T-statistic: -2.24\n",
      "P-value: 0.025\n"
     ]
    }
   ],
   "source": [
    "# Perform hypothesis testing\n",
    "t_stat, p_value = ttest_ind(outcomes_A, outcomes_B)\n",
    "\n",
    "print(f\"T-statistic: {t_stat:.2f}\")\n",
    "print(f\"P-value: {p_value:.3f}\")"
   ]
  },
  {
   "cell_type": "markdown",
   "id": "148a3e4d",
   "metadata": {},
   "source": [
    "We have generated binary outcomes for group A and group B by randomly generating binary outcomes for each visitor. We have repeated this process for each visitor in both groups to obtain two arrays of binary outcomes representing the conversion results for group A and group B. We have calculated the conversion rates and performed hypothesis testing to determine whether the difference between the two rates is statistically significant."
   ]
  },
  {
   "cell_type": "code",
   "execution_count": 7,
   "id": "59ce61c9",
   "metadata": {},
   "outputs": [
    {
     "name": "stdout",
     "output_type": "stream",
     "text": [
      "Reject null hypothesis\n"
     ]
    }
   ],
   "source": [
    "# Check significance level\n",
    "alpha = 0.05\n",
    "if p_value < alpha:\n",
    "    print(\"Reject null hypothesis\")\n",
    "else:\n",
    "    print(\"Fail to reject null hypothesis\")\n"
   ]
  },
  {
   "cell_type": "code",
   "execution_count": 8,
   "id": "a6a901ee",
   "metadata": {},
   "outputs": [
    {
     "name": "stdout",
     "output_type": "stream",
     "text": [
      "95% Confidence Interval: [0.40%, 6.00%]\n"
     ]
    }
   ],
   "source": [
    "# Calculate confidence interval\n",
    "se = np.sqrt(conv_rate_A * (1 - conv_rate_A) / n + conv_rate_B * (1 - conv_rate_B) / n)\n",
    "margin_error = 1.96 * se\n",
    "ci_low = (conv_rate_B - conv_rate_A) - margin_error\n",
    "ci_high = (conv_rate_B - conv_rate_A) + margin_error\n",
    "print(f\"95% Confidence Interval: [{ci_low:.2%}, {ci_high:.2%}]\")"
   ]
  },
  {
   "cell_type": "markdown",
   "id": "7b9fdcc2",
   "metadata": {},
   "source": [
    "## Results \n",
    "We found that the conversion rate for group A was 10%, while the conversion rate for group B was 13.2%. This means that the conversion rate of group B is higher than the conversion rate of group A. We have performed hypothesis testing to confirm whether the difference between the conversion rates of group A and group B is statistically significant. The p-value we obtained from the test was 0.025, which is less than the significance level of 0.05. Therefore, we can reject the null hypothesis and conclude that the conversion rate of group B is significantly higher than the conversion rate of group A."
   ]
  },
  {
   "cell_type": "markdown",
   "id": "95cba5ad",
   "metadata": {},
   "source": [
    "## Conclusion\n",
    "In conclusion, we have successfully performed A/B testing to determine whether a new website design increases the conversion rate compared to the old design. We have found that the new design is more effective in increasing the conversion rate than the old design. This suggests that implementing the new design on the website will likely result in a higher conversion rate, and therefore, more sales."
   ]
  },
  {
   "cell_type": "code",
   "execution_count": null,
   "id": "3b49d6c3",
   "metadata": {},
   "outputs": [],
   "source": []
  }
 ],
 "metadata": {
  "kernelspec": {
   "display_name": "Python 3 (ipykernel)",
   "language": "python",
   "name": "python3"
  },
  "language_info": {
   "codemirror_mode": {
    "name": "ipython",
    "version": 3
   },
   "file_extension": ".py",
   "mimetype": "text/x-python",
   "name": "python",
   "nbconvert_exporter": "python",
   "pygments_lexer": "ipython3",
   "version": "3.9.12"
  }
 },
 "nbformat": 4,
 "nbformat_minor": 5
}
